{
  "nbformat": 4,
  "nbformat_minor": 0,
  "metadata": {
    "colab": {
      "provenance": []
    },
    "kernelspec": {
      "name": "python3",
      "display_name": "Python 3"
    },
    "accelerator": "GPU"
  },
  "cells": [
    {
      "cell_type": "markdown",
      "metadata": {
        "id": "0mI0WA9d28vK"
      },
      "source": [
        "Brief guide to run Vietnamese SBERT.\n",
        "\n",
        "[![Gimme the CODE !](https://img.shields.io/badge/Give%20me-the%20CODE-1abc9c.svg)](https://github.com/Datami555/sentence-transformers)"
      ]
    },
    {
      "cell_type": "markdown",
      "metadata": {
        "id": "WEEPBuxRy05r"
      },
      "source": [
        "# Install dependencies"
      ]
    },
    {
      "cell_type": "code",
      "source": [
        "%pip install -U --no-cache-dir gdown --pre"
      ],
      "metadata": {
        "colab": {
          "base_uri": "https://localhost:8080/"
        },
        "id": "OIHnUEu6bePJ",
        "outputId": "7faa8f4f-19a2-4286-b477-f4d714d84b51"
      },
      "execution_count": null,
      "outputs": [
        {
          "output_type": "stream",
          "name": "stdout",
          "text": [
            "Requirement already satisfied: gdown in /usr/local/lib/python3.7/dist-packages (4.2.2)\n",
            "Collecting gdown\n",
            "  Downloading gdown-4.4.0.tar.gz (14 kB)\n",
            "  Installing build dependencies ... \u001b[?25l\u001b[?25hdone\n",
            "  Getting requirements to build wheel ... \u001b[?25l\u001b[?25hdone\n",
            "    Preparing wheel metadata ... \u001b[?25l\u001b[?25hdone\n",
            "Requirement already satisfied: filelock in /usr/local/lib/python3.7/dist-packages (from gdown) (3.6.0)\n",
            "Requirement already satisfied: requests[socks] in /usr/local/lib/python3.7/dist-packages (from gdown) (2.23.0)\n",
            "Requirement already satisfied: tqdm in /usr/local/lib/python3.7/dist-packages (from gdown) (4.63.0)\n",
            "Requirement already satisfied: six in /usr/local/lib/python3.7/dist-packages (from gdown) (1.15.0)\n",
            "Requirement already satisfied: beautifulsoup4 in /usr/local/lib/python3.7/dist-packages (from gdown) (4.6.3)\n",
            "Requirement already satisfied: chardet<4,>=3.0.2 in /usr/local/lib/python3.7/dist-packages (from requests[socks]->gdown) (3.0.4)\n",
            "Requirement already satisfied: idna<3,>=2.5 in /usr/local/lib/python3.7/dist-packages (from requests[socks]->gdown) (2.10)\n",
            "Requirement already satisfied: urllib3!=1.25.0,!=1.25.1,<1.26,>=1.21.1 in /usr/local/lib/python3.7/dist-packages (from requests[socks]->gdown) (1.24.3)\n",
            "Requirement already satisfied: certifi>=2017.4.17 in /usr/local/lib/python3.7/dist-packages (from requests[socks]->gdown) (2021.10.8)\n",
            "Requirement already satisfied: PySocks!=1.5.7,>=1.5.6 in /usr/local/lib/python3.7/dist-packages (from requests[socks]->gdown) (1.7.1)\n",
            "Building wheels for collected packages: gdown\n",
            "  Building wheel for gdown (PEP 517) ... \u001b[?25l\u001b[?25hdone\n",
            "  Created wheel for gdown: filename=gdown-4.4.0-py3-none-any.whl size=14774 sha256=0c36e6fd080e659930b0265a75020e938053dbdc2056676e11acd59e3f0dac91\n",
            "  Stored in directory: /tmp/pip-ephem-wheel-cache-v_fbppnk/wheels/fb/c3/0e/c4d8ff8bfcb0461afff199471449f642179b74968c15b7a69c\n",
            "Successfully built gdown\n",
            "Installing collected packages: gdown\n",
            "  Attempting uninstall: gdown\n",
            "    Found existing installation: gdown 4.2.2\n",
            "    Uninstalling gdown-4.2.2:\n",
            "      Successfully uninstalled gdown-4.2.2\n",
            "Successfully installed gdown-4.4.0\n"
          ]
        }
      ]
    },
    {
      "cell_type": "code",
      "metadata": {
        "id": "n_qm91VKvBSF",
        "colab": {
          "base_uri": "https://localhost:8080/"
        },
        "outputId": "dff880a3-1802-4811-badc-a76a100efba5"
      },
      "source": [
        "!gdown https://drive.google.com/a/gm.uit.edu.vn/uc?id=1pXJZ9eHp6DWkQ5MhCzmWYsKyLQEDiodz&export=download\n",
        "!tar xzf /content/vn_sbert_deploy.tar.gz"
      ],
      "execution_count": null,
      "outputs": [
        {
          "output_type": "stream",
          "name": "stdout",
          "text": [
            "Downloading...\n",
            "From: https://drive.google.com/a/gm.uit.edu.vn/uc?id=1pXJZ9eHp6DWkQ5MhCzmWYsKyLQEDiodz\n",
            "To: /content/vn_sbert_deploy.tar.gz\n",
            "100% 485M/485M [00:04<00:00, 119MB/s]\n"
          ]
        }
      ]
    },
    {
      "cell_type": "code",
      "metadata": {
        "id": "zeAA_X-fyw6-",
        "colab": {
          "base_uri": "https://localhost:8080/"
        },
        "outputId": "0dd80b3c-8c2e-48b6-cd37-c8130ea4be90"
      },
      "source": [
        "!pip -q install transformers\n",
        "!pip -q install vncorenlp\n",
        "!pip -q install fairseq\n",
        "!pip -q install fastBPE\n",
        "\n",
        "!pip -q install fastapi\n",
        "!pip -q install uvicorn\n",
        "!pip -q install pyngrok\n",
        "!pip -q install pyyaml==5.4.1 "
      ],
      "execution_count": null,
      "outputs": [
        {
          "output_type": "stream",
          "name": "stdout",
          "text": [
            "\u001b[?25l\r\u001b[K     |▌                               | 10 kB 34.7 MB/s eta 0:00:01\r\u001b[K     |█                               | 20 kB 22.6 MB/s eta 0:00:01\r\u001b[K     |█▌                              | 30 kB 17.2 MB/s eta 0:00:01\r\u001b[K     |██                              | 40 kB 15.3 MB/s eta 0:00:01\r\u001b[K     |██▋                             | 51 kB 11.8 MB/s eta 0:00:01\r\u001b[K     |███                             | 61 kB 13.7 MB/s eta 0:00:01\r\u001b[K     |███▋                            | 71 kB 15.2 MB/s eta 0:00:01\r\u001b[K     |████▏                           | 81 kB 16.8 MB/s eta 0:00:01\r\u001b[K     |████▋                           | 92 kB 17.4 MB/s eta 0:00:01\r\u001b[K     |█████▏                          | 102 kB 15.8 MB/s eta 0:00:01\r\u001b[K     |█████▋                          | 112 kB 15.8 MB/s eta 0:00:01\r\u001b[K     |██████▏                         | 122 kB 15.8 MB/s eta 0:00:01\r\u001b[K     |██████▊                         | 133 kB 15.8 MB/s eta 0:00:01\r\u001b[K     |███████▏                        | 143 kB 15.8 MB/s eta 0:00:01\r\u001b[K     |███████▊                        | 153 kB 15.8 MB/s eta 0:00:01\r\u001b[K     |████████▎                       | 163 kB 15.8 MB/s eta 0:00:01\r\u001b[K     |████████▊                       | 174 kB 15.8 MB/s eta 0:00:01\r\u001b[K     |█████████▎                      | 184 kB 15.8 MB/s eta 0:00:01\r\u001b[K     |█████████▉                      | 194 kB 15.8 MB/s eta 0:00:01\r\u001b[K     |██████████▎                     | 204 kB 15.8 MB/s eta 0:00:01\r\u001b[K     |██████████▉                     | 215 kB 15.8 MB/s eta 0:00:01\r\u001b[K     |███████████▎                    | 225 kB 15.8 MB/s eta 0:00:01\r\u001b[K     |███████████▉                    | 235 kB 15.8 MB/s eta 0:00:01\r\u001b[K     |████████████▍                   | 245 kB 15.8 MB/s eta 0:00:01\r\u001b[K     |████████████▉                   | 256 kB 15.8 MB/s eta 0:00:01\r\u001b[K     |█████████████▍                  | 266 kB 15.8 MB/s eta 0:00:01\r\u001b[K     |██████████████                  | 276 kB 15.8 MB/s eta 0:00:01\r\u001b[K     |██████████████▍                 | 286 kB 15.8 MB/s eta 0:00:01\r\u001b[K     |███████████████                 | 296 kB 15.8 MB/s eta 0:00:01\r\u001b[K     |███████████████▍                | 307 kB 15.8 MB/s eta 0:00:01\r\u001b[K     |████████████████                | 317 kB 15.8 MB/s eta 0:00:01\r\u001b[K     |████████████████▌               | 327 kB 15.8 MB/s eta 0:00:01\r\u001b[K     |█████████████████               | 337 kB 15.8 MB/s eta 0:00:01\r\u001b[K     |█████████████████▌              | 348 kB 15.8 MB/s eta 0:00:01\r\u001b[K     |██████████████████              | 358 kB 15.8 MB/s eta 0:00:01\r\u001b[K     |██████████████████▌             | 368 kB 15.8 MB/s eta 0:00:01\r\u001b[K     |███████████████████             | 378 kB 15.8 MB/s eta 0:00:01\r\u001b[K     |███████████████████▋            | 389 kB 15.8 MB/s eta 0:00:01\r\u001b[K     |████████████████████            | 399 kB 15.8 MB/s eta 0:00:01\r\u001b[K     |████████████████████▋           | 409 kB 15.8 MB/s eta 0:00:01\r\u001b[K     |█████████████████████           | 419 kB 15.8 MB/s eta 0:00:01\r\u001b[K     |█████████████████████▋          | 430 kB 15.8 MB/s eta 0:00:01\r\u001b[K     |██████████████████████▏         | 440 kB 15.8 MB/s eta 0:00:01\r\u001b[K     |██████████████████████▋         | 450 kB 15.8 MB/s eta 0:00:01\r\u001b[K     |███████████████████████▏        | 460 kB 15.8 MB/s eta 0:00:01\r\u001b[K     |███████████████████████▊        | 471 kB 15.8 MB/s eta 0:00:01\r\u001b[K     |████████████████████████▏       | 481 kB 15.8 MB/s eta 0:00:01\r\u001b[K     |████████████████████████▊       | 491 kB 15.8 MB/s eta 0:00:01\r\u001b[K     |█████████████████████████▏      | 501 kB 15.8 MB/s eta 0:00:01\r\u001b[K     |█████████████████████████▊      | 512 kB 15.8 MB/s eta 0:00:01\r\u001b[K     |██████████████████████████▎     | 522 kB 15.8 MB/s eta 0:00:01\r\u001b[K     |██████████████████████████▊     | 532 kB 15.8 MB/s eta 0:00:01\r\u001b[K     |███████████████████████████▎    | 542 kB 15.8 MB/s eta 0:00:01\r\u001b[K     |███████████████████████████▉    | 552 kB 15.8 MB/s eta 0:00:01\r\u001b[K     |████████████████████████████▎   | 563 kB 15.8 MB/s eta 0:00:01\r\u001b[K     |████████████████████████████▉   | 573 kB 15.8 MB/s eta 0:00:01\r\u001b[K     |█████████████████████████████▍  | 583 kB 15.8 MB/s eta 0:00:01\r\u001b[K     |█████████████████████████████▉  | 593 kB 15.8 MB/s eta 0:00:01\r\u001b[K     |██████████████████████████████▍ | 604 kB 15.8 MB/s eta 0:00:01\r\u001b[K     |██████████████████████████████▉ | 614 kB 15.8 MB/s eta 0:00:01\r\u001b[K     |███████████████████████████████▍| 624 kB 15.8 MB/s eta 0:00:01\r\u001b[K     |████████████████████████████████| 634 kB 15.8 MB/s eta 0:00:01\r\u001b[K     |████████████████████████████████| 636 kB 15.8 MB/s \n",
            "\u001b[?25h"
          ]
        }
      ]
    },
    {
      "cell_type": "markdown",
      "metadata": {
        "id": "AOCB9rvGy71q"
      },
      "source": [
        "## Download word segmenter"
      ]
    },
    {
      "cell_type": "code",
      "metadata": {
        "id": "R5Tv1mHCy_kF",
        "colab": {
          "base_uri": "https://localhost:8080/"
        },
        "outputId": "4c2db0d1-4f18-406e-b6b1-7d40cc9c2e66"
      },
      "source": [
        "!mkdir -p vncorenlp/models/wordsegmenter\n",
        "!wget -q --show-progress https://raw.githubusercontent.com/vncorenlp/VnCoreNLP/master/VnCoreNLP-1.1.1.jar\n",
        "!wget -q --show-progress https://raw.githubusercontent.com/vncorenlp/VnCoreNLP/master/models/wordsegmenter/vi-vocab\n",
        "!wget -q --show-progress https://raw.githubusercontent.com/vncorenlp/VnCoreNLP/master/models/wordsegmenter/wordsegmenter.rdr\n",
        "!mv VnCoreNLP-1.1.1.jar vncorenlp/ \n",
        "!mv vi-vocab vncorenlp/models/wordsegmenter/\n",
        "!mv wordsegmenter.rdr vncorenlp/models/wordsegmenter/"
      ],
      "execution_count": null,
      "outputs": [
        {
          "output_type": "stream",
          "name": "stdout",
          "text": [
            "VnCoreNLP-1.1.1.jar 100%[===================>]  26.14M  --.-KB/s    in 0.09s   \n",
            "vi-vocab            100%[===================>] 514.20K  --.-KB/s    in 0.02s   \n",
            "wordsegmenter.rdr   100%[===================>] 125.50K  --.-KB/s    in 0.008s  \n"
          ]
        }
      ]
    },
    {
      "cell_type": "markdown",
      "metadata": {
        "id": "eEmNBMmNzDRC"
      },
      "source": [
        "## Install Vietnamese SBERT"
      ]
    },
    {
      "cell_type": "code",
      "metadata": {
        "id": "9E9lNCnqzGLc",
        "colab": {
          "base_uri": "https://localhost:8080/"
        },
        "outputId": "1d784eaa-ab9b-4505-d789-cd4f423f544e"
      },
      "source": [
        "!git clone https://github.com/DatCanCode/sentence-transformers\n",
        "!cd sentence-transformers; pip install -e ."
      ],
      "execution_count": null,
      "outputs": [
        {
          "output_type": "stream",
          "name": "stdout",
          "text": [
            "Cloning into 'sentence-transformers'...\n",
            "remote: Enumerating objects: 1200, done.\u001b[K\n",
            "remote: Counting objects: 100% (181/181), done.\u001b[K\n",
            "remote: Compressing objects: 100% (22/22), done.\u001b[K\n",
            "remote: Total 1200 (delta 159), reused 159 (delta 159), pack-reused 1019\u001b[K\n",
            "Receiving objects: 100% (1200/1200), 30.67 MiB | 16.32 MiB/s, done.\n",
            "Resolving deltas: 100% (820/820), done.\n",
            "Obtaining file:///content/sentence-transformers\n",
            "Requirement already satisfied: transformers>=2.8.0 in /usr/local/lib/python3.7/dist-packages (from sentence-transformers==0.2.6.1) (4.17.0)\n",
            "Requirement already satisfied: tqdm in /usr/local/lib/python3.7/dist-packages (from sentence-transformers==0.2.6.1) (4.63.0)\n",
            "Requirement already satisfied: torch>=1.0.1 in /usr/local/lib/python3.7/dist-packages (from sentence-transformers==0.2.6.1) (1.10.0+cu111)\n",
            "Requirement already satisfied: numpy in /usr/local/lib/python3.7/dist-packages (from sentence-transformers==0.2.6.1) (1.21.5)\n",
            "Requirement already satisfied: scikit-learn in /usr/local/lib/python3.7/dist-packages (from sentence-transformers==0.2.6.1) (1.0.2)\n",
            "Requirement already satisfied: scipy in /usr/local/lib/python3.7/dist-packages (from sentence-transformers==0.2.6.1) (1.4.1)\n",
            "Requirement already satisfied: nltk in /usr/local/lib/python3.7/dist-packages (from sentence-transformers==0.2.6.1) (3.2.5)\n",
            "Requirement already satisfied: typing-extensions in /usr/local/lib/python3.7/dist-packages (from torch>=1.0.1->sentence-transformers==0.2.6.1) (3.10.0.2)\n",
            "Requirement already satisfied: importlib-metadata in /usr/local/lib/python3.7/dist-packages (from transformers>=2.8.0->sentence-transformers==0.2.6.1) (4.11.2)\n",
            "Requirement already satisfied: filelock in /usr/local/lib/python3.7/dist-packages (from transformers>=2.8.0->sentence-transformers==0.2.6.1) (3.6.0)\n",
            "Requirement already satisfied: packaging>=20.0 in /usr/local/lib/python3.7/dist-packages (from transformers>=2.8.0->sentence-transformers==0.2.6.1) (21.3)\n",
            "Requirement already satisfied: sacremoses in /usr/local/lib/python3.7/dist-packages (from transformers>=2.8.0->sentence-transformers==0.2.6.1) (0.0.47)\n",
            "Requirement already satisfied: tokenizers!=0.11.3,>=0.11.1 in /usr/local/lib/python3.7/dist-packages (from transformers>=2.8.0->sentence-transformers==0.2.6.1) (0.11.6)\n",
            "Requirement already satisfied: regex!=2019.12.17 in /usr/local/lib/python3.7/dist-packages (from transformers>=2.8.0->sentence-transformers==0.2.6.1) (2019.12.20)\n",
            "Requirement already satisfied: pyyaml>=5.1 in /usr/local/lib/python3.7/dist-packages (from transformers>=2.8.0->sentence-transformers==0.2.6.1) (6.0)\n",
            "Requirement already satisfied: huggingface-hub<1.0,>=0.1.0 in /usr/local/lib/python3.7/dist-packages (from transformers>=2.8.0->sentence-transformers==0.2.6.1) (0.4.0)\n",
            "Requirement already satisfied: requests in /usr/local/lib/python3.7/dist-packages (from transformers>=2.8.0->sentence-transformers==0.2.6.1) (2.23.0)\n",
            "Requirement already satisfied: pyparsing!=3.0.5,>=2.0.2 in /usr/local/lib/python3.7/dist-packages (from packaging>=20.0->transformers>=2.8.0->sentence-transformers==0.2.6.1) (3.0.7)\n",
            "Requirement already satisfied: zipp>=0.5 in /usr/local/lib/python3.7/dist-packages (from importlib-metadata->transformers>=2.8.0->sentence-transformers==0.2.6.1) (3.7.0)\n",
            "Requirement already satisfied: six in /usr/local/lib/python3.7/dist-packages (from nltk->sentence-transformers==0.2.6.1) (1.15.0)\n",
            "Requirement already satisfied: urllib3!=1.25.0,!=1.25.1,<1.26,>=1.21.1 in /usr/local/lib/python3.7/dist-packages (from requests->transformers>=2.8.0->sentence-transformers==0.2.6.1) (1.24.3)\n",
            "Requirement already satisfied: certifi>=2017.4.17 in /usr/local/lib/python3.7/dist-packages (from requests->transformers>=2.8.0->sentence-transformers==0.2.6.1) (2021.10.8)\n",
            "Requirement already satisfied: chardet<4,>=3.0.2 in /usr/local/lib/python3.7/dist-packages (from requests->transformers>=2.8.0->sentence-transformers==0.2.6.1) (3.0.4)\n",
            "Requirement already satisfied: idna<3,>=2.5 in /usr/local/lib/python3.7/dist-packages (from requests->transformers>=2.8.0->sentence-transformers==0.2.6.1) (2.10)\n",
            "Requirement already satisfied: click in /usr/local/lib/python3.7/dist-packages (from sacremoses->transformers>=2.8.0->sentence-transformers==0.2.6.1) (7.1.2)\n",
            "Requirement already satisfied: joblib in /usr/local/lib/python3.7/dist-packages (from sacremoses->transformers>=2.8.0->sentence-transformers==0.2.6.1) (1.1.0)\n",
            "Requirement already satisfied: threadpoolctl>=2.0.0 in /usr/local/lib/python3.7/dist-packages (from scikit-learn->sentence-transformers==0.2.6.1) (3.1.0)\n",
            "Installing collected packages: sentence-transformers\n",
            "  Running setup.py develop for sentence-transformers\n",
            "Successfully installed sentence-transformers-0.2.6.1\n"
          ]
        }
      ]
    },
    {
      "cell_type": "markdown",
      "metadata": {
        "id": "YGgL39b1zesy"
      },
      "source": [
        "# Start web server\n",
        "In-notebook demo is in the next section"
      ]
    },
    {
      "cell_type": "code",
      "metadata": {
        "id": "TeuzYxpQzqvJ",
        "colab": {
          "base_uri": "https://localhost:8080/"
        },
        "outputId": "8a4039dd-4dfe-4fdd-c45d-85ccf98aadcb"
      },
      "source": [
        "%cd vn_sbert_deploy\n",
        "!USE_NGROK=True uvicorn server:app"
      ],
      "execution_count": null,
      "outputs": [
        {
          "output_type": "stream",
          "name": "stdout",
          "text": [
            "[Errno 2] No such file or directory: 'vn_sbert_deploy'\n",
            "/content/vn_sbert_deploy\n",
            "/usr/local/lib/python3.7/dist-packages/distributed/config.py:20: YAMLLoadWarning: calling yaml.load() without Loader=... is deprecated, as the default Loader is unsafe. Please read https://msg.pyyaml.org/load for full details.\n",
            "  defaults = yaml.load(f)\n",
            "Loading codes from /content/vn_sbert_deploy/bpe/bpe.codes ...\n",
            "Read 64000 codes from the codes file.\n",
            "WARNING:fastapi:ngrok tunnel \"NgrokTunnel: \"http://0576-34-91-7-76.ngrok.io\" -> \"http://localhost:8000\"\" -> \"http://127.0.0.1:8000/\"\n",
            "\u001b[32mINFO\u001b[0m:     Started server process [\u001b[36m512\u001b[0m]\n",
            "INFO:uvicorn.error:Started server process [512]\n",
            "\u001b[32mINFO\u001b[0m:     Waiting for application startup.\n",
            "INFO:uvicorn.error:Waiting for application startup.\n",
            "\u001b[32mINFO\u001b[0m:     Application startup complete.\n",
            "INFO:uvicorn.error:Application startup complete.\n",
            "\u001b[32mINFO\u001b[0m:     Uvicorn running on \u001b[1mhttp://127.0.0.1:8000\u001b[0m (Press CTRL+C to quit)\n",
            "INFO:uvicorn.error:Uvicorn running on http://127.0.0.1:8000 (Press CTRL+C to quit)\n",
            "\u001b[32mINFO\u001b[0m:     2402:800:63b6:bf1c:1132:2e35:3129:55bc:0 - \"\u001b[1mGET / HTTP/1.1\u001b[0m\" \u001b[32m200 OK\u001b[0m\n",
            "\u001b[32mINFO\u001b[0m:     2402:800:63b6:bf1c:1132:2e35:3129:55bc:0 - \"\u001b[1mGET /favicon.ico HTTP/1.1\u001b[0m\" \u001b[31m404 Not Found\u001b[0m\n",
            "\u001b[32mINFO\u001b[0m:     Shutting down\n",
            "INFO:uvicorn.error:Shutting down\n",
            "\u001b[32mINFO\u001b[0m:     Finished server process [\u001b[36m512\u001b[0m]\n",
            "INFO:uvicorn.error:Finished server process [512]\n",
            "\u001b[31mERROR\u001b[0m:    Traceback (most recent call last):\n",
            "  File \"/usr/local/lib/python3.7/dist-packages/starlette/routing.py\", line 624, in lifespan\n",
            "    await receive()\n",
            "  File \"/usr/local/lib/python3.7/dist-packages/uvicorn/lifespan/on.py\", line 135, in receive\n",
            "    return await self.receive_queue.get()\n",
            "  File \"/usr/lib/python3.7/asyncio/queues.py\", line 159, in get\n",
            "    await getter\n",
            "concurrent.futures._base.CancelledError\n",
            "\n",
            "ERROR:uvicorn.error:Traceback (most recent call last):\n",
            "  File \"/usr/local/lib/python3.7/dist-packages/starlette/routing.py\", line 624, in lifespan\n",
            "    await receive()\n",
            "  File \"/usr/local/lib/python3.7/dist-packages/uvicorn/lifespan/on.py\", line 135, in receive\n",
            "    return await self.receive_queue.get()\n",
            "  File \"/usr/lib/python3.7/asyncio/queues.py\", line 159, in get\n",
            "    await getter\n",
            "concurrent.futures._base.CancelledError\n",
            "\n"
          ]
        }
      ]
    },
    {
      "cell_type": "markdown",
      "metadata": {
        "id": "26B_p1feztaj"
      },
      "source": [
        "# Demo in notebook"
      ]
    },
    {
      "cell_type": "markdown",
      "metadata": {
        "id": "13_p4wbMQT7W"
      },
      "source": [
        "Import and load model"
      ]
    },
    {
      "cell_type": "code",
      "metadata": {
        "id": "bBa-9p0CQee9",
        "colab": {
          "base_uri": "https://localhost:8080/"
        },
        "outputId": "f38b664b-a6b6-47cd-b917-b08a5179f63a"
      },
      "source": [
        "%cd /content/sentence-transformers/\n",
        "from sentence_transformers import SentenceTransformer\n",
        "import numpy as np\n",
        "model = SentenceTransformer('/content/vn_sbert_deploy/phobert_base_mean_tokens_NLI_STS')"
      ],
      "execution_count": null,
      "outputs": [
        {
          "output_type": "stream",
          "name": "stdout",
          "text": [
            "/content/sentence-transformers\n"
          ]
        }
      ]
    },
    {
      "cell_type": "markdown",
      "metadata": {
        "id": "f3wav6UBQNPk"
      },
      "source": [
        "## Get sentence embeddings"
      ]
    },
    {
      "cell_type": "code",
      "metadata": {
        "id": "0kGn2VlvQQ23",
        "colab": {
          "base_uri": "https://localhost:8080/"
        },
        "outputId": "1bece3db-0d36-472e-8be4-fb016e033e52"
      },
      "source": [
        "corpus = ['Cô giáo đang ăn kem.',\n",
        "          'Cô giáo đang ăn bánh mì.',\n",
        "          'Chị gái đang thử món thịt dê.',\n",
        "          'Một anh trai đang cưỡi ngựa.',\n",
        "          'Kị binh đang đi tuần.',\n",
        "          'Một vụ tai nạn thảm khốc vừa xảy ra.',\n",
        "          'Đã có ít nhất hai người chết trong vụ xe khách rơi xuống vực.',\n",
        "          'Một con khỉ đang diễn xiếc.',\n",
        "          'Một người đàn ông trong bộ đồ tinh tinh đang làm trò.',\n",
        "          'Lũ quét đột ngột gây thiệt hại cho ít nhất 3 tỉnh miền núi']\n",
        "\n",
        "corpus_embeddings = model.encode(corpus)\n",
        "np.array(corpus_embeddings).shape"
      ],
      "execution_count": null,
      "outputs": [
        {
          "output_type": "execute_result",
          "data": {
            "text/plain": [
              "(10, 768)"
            ]
          },
          "metadata": {},
          "execution_count": 12
        }
      ]
    },
    {
      "cell_type": "markdown",
      "metadata": {
        "id": "Fl5l1_Dc0EVy"
      },
      "source": [
        "## Semantic clustering"
      ]
    },
    {
      "cell_type": "code",
      "metadata": {
        "id": "mJx4nSGbz7jJ",
        "colab": {
          "base_uri": "https://localhost:8080/"
        },
        "outputId": "804edf8b-6e39-4703-f7c9-e343cf8c80df"
      },
      "source": [
        "from sklearn.cluster import KMeans\n",
        "\n",
        "num_clusters = 5\n",
        "\n",
        "clustering_model = KMeans(n_clusters=num_clusters)\n",
        "clustering_model.fit(corpus_embeddings)\n",
        "cluster_assignment = clustering_model.labels_\n",
        "cluster_assignment"
      ],
      "execution_count": null,
      "outputs": [
        {
          "output_type": "execute_result",
          "data": {
            "text/plain": [
              "array([1, 1, 1, 3, 3, 0, 0, 2, 2, 4], dtype=int32)"
            ]
          },
          "metadata": {},
          "execution_count": 13
        }
      ]
    },
    {
      "cell_type": "markdown",
      "metadata": {
        "id": "TX_C62lV0Mq7"
      },
      "source": [
        "Applying PCA to reduce the number of dimensions."
      ]
    },
    {
      "cell_type": "code",
      "metadata": {
        "id": "z8HD7ftsz-8V"
      },
      "source": [
        "from sklearn.decomposition import PCA\n",
        "import numpy as np\n",
        "import pandas as pd\n",
        "\n",
        "\n",
        "X = np.array(corpus_embeddings)\n",
        "\n",
        "pca = PCA(n_components=3)\n",
        "result = pca.fit_transform(X)"
      ],
      "execution_count": null,
      "outputs": []
    },
    {
      "cell_type": "code",
      "metadata": {
        "id": "AbBmasLu0V6p",
        "colab": {
          "base_uri": "https://localhost:8080/",
          "height": 363
        },
        "outputId": "88e67fb4-2ad5-444c-e319-1e37599eb8ee"
      },
      "source": [
        "# create dataframe to feed to \n",
        "\n",
        "df = pd.DataFrame({\n",
        "    'sent': corpus,\n",
        "    'cluster': cluster_assignment.astype(str),\n",
        "    'x': result[:, 0],\n",
        "    'y': result[:, 1],\n",
        "    'z': result[:, 2]\n",
        "})\n",
        "df"
      ],
      "execution_count": null,
      "outputs": [
        {
          "output_type": "execute_result",
          "data": {
            "text/html": [
              "\n",
              "  <div id=\"df-a8a84861-a33e-440b-b063-d59f4c4137cb\">\n",
              "    <div class=\"colab-df-container\">\n",
              "      <div>\n",
              "<style scoped>\n",
              "    .dataframe tbody tr th:only-of-type {\n",
              "        vertical-align: middle;\n",
              "    }\n",
              "\n",
              "    .dataframe tbody tr th {\n",
              "        vertical-align: top;\n",
              "    }\n",
              "\n",
              "    .dataframe thead th {\n",
              "        text-align: right;\n",
              "    }\n",
              "</style>\n",
              "<table border=\"1\" class=\"dataframe\">\n",
              "  <thead>\n",
              "    <tr style=\"text-align: right;\">\n",
              "      <th></th>\n",
              "      <th>sent</th>\n",
              "      <th>cluster</th>\n",
              "      <th>x</th>\n",
              "      <th>y</th>\n",
              "      <th>z</th>\n",
              "    </tr>\n",
              "  </thead>\n",
              "  <tbody>\n",
              "    <tr>\n",
              "      <th>0</th>\n",
              "      <td>Cô giáo đang ăn kem.</td>\n",
              "      <td>1</td>\n",
              "      <td>-5.453616</td>\n",
              "      <td>-2.787267</td>\n",
              "      <td>-3.952195</td>\n",
              "    </tr>\n",
              "    <tr>\n",
              "      <th>1</th>\n",
              "      <td>Cô giáo đang ăn bánh mì.</td>\n",
              "      <td>1</td>\n",
              "      <td>-6.913651</td>\n",
              "      <td>-1.272944</td>\n",
              "      <td>-3.702491</td>\n",
              "    </tr>\n",
              "    <tr>\n",
              "      <th>2</th>\n",
              "      <td>Chị gái đang thử món thịt dê.</td>\n",
              "      <td>1</td>\n",
              "      <td>-4.696048</td>\n",
              "      <td>-2.625852</td>\n",
              "      <td>1.816635</td>\n",
              "    </tr>\n",
              "    <tr>\n",
              "      <th>3</th>\n",
              "      <td>Một anh trai đang cưỡi ngựa.</td>\n",
              "      <td>3</td>\n",
              "      <td>-0.663591</td>\n",
              "      <td>1.092364</td>\n",
              "      <td>6.405024</td>\n",
              "    </tr>\n",
              "    <tr>\n",
              "      <th>4</th>\n",
              "      <td>Kị binh đang đi tuần.</td>\n",
              "      <td>3</td>\n",
              "      <td>-1.195645</td>\n",
              "      <td>-0.422664</td>\n",
              "      <td>7.280567</td>\n",
              "    </tr>\n",
              "    <tr>\n",
              "      <th>5</th>\n",
              "      <td>Một vụ tai nạn thảm khốc vừa xảy ra.</td>\n",
              "      <td>0</td>\n",
              "      <td>1.948655</td>\n",
              "      <td>5.991241</td>\n",
              "      <td>-1.515969</td>\n",
              "    </tr>\n",
              "    <tr>\n",
              "      <th>6</th>\n",
              "      <td>Đã có ít nhất hai người chết trong vụ xe khách...</td>\n",
              "      <td>0</td>\n",
              "      <td>0.658742</td>\n",
              "      <td>5.679992</td>\n",
              "      <td>-2.767126</td>\n",
              "    </tr>\n",
              "    <tr>\n",
              "      <th>7</th>\n",
              "      <td>Một con khỉ đang diễn xiếc.</td>\n",
              "      <td>2</td>\n",
              "      <td>5.951980</td>\n",
              "      <td>-5.048024</td>\n",
              "      <td>-1.123377</td>\n",
              "    </tr>\n",
              "    <tr>\n",
              "      <th>8</th>\n",
              "      <td>Một người đàn ông trong bộ đồ tinh tinh đang l...</td>\n",
              "      <td>2</td>\n",
              "      <td>7.195945</td>\n",
              "      <td>-4.855567</td>\n",
              "      <td>-1.606090</td>\n",
              "    </tr>\n",
              "    <tr>\n",
              "      <th>9</th>\n",
              "      <td>Lũ quét đột ngột gây thiệt hại cho ít nhất 3 t...</td>\n",
              "      <td>4</td>\n",
              "      <td>3.167230</td>\n",
              "      <td>4.248715</td>\n",
              "      <td>-0.834982</td>\n",
              "    </tr>\n",
              "  </tbody>\n",
              "</table>\n",
              "</div>\n",
              "      <button class=\"colab-df-convert\" onclick=\"convertToInteractive('df-a8a84861-a33e-440b-b063-d59f4c4137cb')\"\n",
              "              title=\"Convert this dataframe to an interactive table.\"\n",
              "              style=\"display:none;\">\n",
              "        \n",
              "  <svg xmlns=\"http://www.w3.org/2000/svg\" height=\"24px\"viewBox=\"0 0 24 24\"\n",
              "       width=\"24px\">\n",
              "    <path d=\"M0 0h24v24H0V0z\" fill=\"none\"/>\n",
              "    <path d=\"M18.56 5.44l.94 2.06.94-2.06 2.06-.94-2.06-.94-.94-2.06-.94 2.06-2.06.94zm-11 1L8.5 8.5l.94-2.06 2.06-.94-2.06-.94L8.5 2.5l-.94 2.06-2.06.94zm10 10l.94 2.06.94-2.06 2.06-.94-2.06-.94-.94-2.06-.94 2.06-2.06.94z\"/><path d=\"M17.41 7.96l-1.37-1.37c-.4-.4-.92-.59-1.43-.59-.52 0-1.04.2-1.43.59L10.3 9.45l-7.72 7.72c-.78.78-.78 2.05 0 2.83L4 21.41c.39.39.9.59 1.41.59.51 0 1.02-.2 1.41-.59l7.78-7.78 2.81-2.81c.8-.78.8-2.07 0-2.86zM5.41 20L4 18.59l7.72-7.72 1.47 1.35L5.41 20z\"/>\n",
              "  </svg>\n",
              "      </button>\n",
              "      \n",
              "  <style>\n",
              "    .colab-df-container {\n",
              "      display:flex;\n",
              "      flex-wrap:wrap;\n",
              "      gap: 12px;\n",
              "    }\n",
              "\n",
              "    .colab-df-convert {\n",
              "      background-color: #E8F0FE;\n",
              "      border: none;\n",
              "      border-radius: 50%;\n",
              "      cursor: pointer;\n",
              "      display: none;\n",
              "      fill: #1967D2;\n",
              "      height: 32px;\n",
              "      padding: 0 0 0 0;\n",
              "      width: 32px;\n",
              "    }\n",
              "\n",
              "    .colab-df-convert:hover {\n",
              "      background-color: #E2EBFA;\n",
              "      box-shadow: 0px 1px 2px rgba(60, 64, 67, 0.3), 0px 1px 3px 1px rgba(60, 64, 67, 0.15);\n",
              "      fill: #174EA6;\n",
              "    }\n",
              "\n",
              "    [theme=dark] .colab-df-convert {\n",
              "      background-color: #3B4455;\n",
              "      fill: #D2E3FC;\n",
              "    }\n",
              "\n",
              "    [theme=dark] .colab-df-convert:hover {\n",
              "      background-color: #434B5C;\n",
              "      box-shadow: 0px 1px 3px 1px rgba(0, 0, 0, 0.15);\n",
              "      filter: drop-shadow(0px 1px 2px rgba(0, 0, 0, 0.3));\n",
              "      fill: #FFFFFF;\n",
              "    }\n",
              "  </style>\n",
              "\n",
              "      <script>\n",
              "        const buttonEl =\n",
              "          document.querySelector('#df-a8a84861-a33e-440b-b063-d59f4c4137cb button.colab-df-convert');\n",
              "        buttonEl.style.display =\n",
              "          google.colab.kernel.accessAllowed ? 'block' : 'none';\n",
              "\n",
              "        async function convertToInteractive(key) {\n",
              "          const element = document.querySelector('#df-a8a84861-a33e-440b-b063-d59f4c4137cb');\n",
              "          const dataTable =\n",
              "            await google.colab.kernel.invokeFunction('convertToInteractive',\n",
              "                                                     [key], {});\n",
              "          if (!dataTable) return;\n",
              "\n",
              "          const docLinkHtml = 'Like what you see? Visit the ' +\n",
              "            '<a target=\"_blank\" href=https://colab.research.google.com/notebooks/data_table.ipynb>data table notebook</a>'\n",
              "            + ' to learn more about interactive tables.';\n",
              "          element.innerHTML = '';\n",
              "          dataTable['output_type'] = 'display_data';\n",
              "          await google.colab.output.renderOutput(dataTable, element);\n",
              "          const docLink = document.createElement('div');\n",
              "          docLink.innerHTML = docLinkHtml;\n",
              "          element.appendChild(docLink);\n",
              "        }\n",
              "      </script>\n",
              "    </div>\n",
              "  </div>\n",
              "  "
            ],
            "text/plain": [
              "                                                sent cluster         x  \\\n",
              "0                               Cô giáo đang ăn kem.       1 -5.453616   \n",
              "1                           Cô giáo đang ăn bánh mì.       1 -6.913651   \n",
              "2                      Chị gái đang thử món thịt dê.       1 -4.696048   \n",
              "3                       Một anh trai đang cưỡi ngựa.       3 -0.663591   \n",
              "4                              Kị binh đang đi tuần.       3 -1.195645   \n",
              "5               Một vụ tai nạn thảm khốc vừa xảy ra.       0  1.948655   \n",
              "6  Đã có ít nhất hai người chết trong vụ xe khách...       0  0.658742   \n",
              "7                        Một con khỉ đang diễn xiếc.       2  5.951980   \n",
              "8  Một người đàn ông trong bộ đồ tinh tinh đang l...       2  7.195945   \n",
              "9  Lũ quét đột ngột gây thiệt hại cho ít nhất 3 t...       4  3.167230   \n",
              "\n",
              "          y         z  \n",
              "0 -2.787267 -3.952195  \n",
              "1 -1.272944 -3.702491  \n",
              "2 -2.625852  1.816635  \n",
              "3  1.092364  6.405024  \n",
              "4 -0.422664  7.280567  \n",
              "5  5.991241 -1.515969  \n",
              "6  5.679992 -2.767126  \n",
              "7 -5.048024 -1.123377  \n",
              "8 -4.855567 -1.606090  \n",
              "9  4.248715 -0.834982  "
            ]
          },
          "metadata": {},
          "execution_count": 15
        }
      ]
    },
    {
      "cell_type": "code",
      "metadata": {
        "id": "Qks0IXzp0XgQ",
        "colab": {
          "base_uri": "https://localhost:8080/",
          "height": 598
        },
        "outputId": "121d15c9-337c-4993-d7f3-be538feef195"
      },
      "source": [
        "import plotly.express as px\n",
        "\n",
        "\n",
        "fig = px.scatter_3d(df, x='x', y='y', z='z',\n",
        "              color='cluster', hover_name='sent',\n",
        "              range_x = [df.x.min()-1, df.x.max()+1],\n",
        "              range_y = [df.y.min()-1, df.y.max()+1],\n",
        "              range_z = [df.z.min()-1, df.z.max()+1])\n",
        "\n",
        "fig.update_traces(hovertemplate= '<b>%{hovertext}</b>')\n",
        "fig.show()"
      ],
      "execution_count": null,
      "outputs": [
        {
          "output_type": "stream",
          "name": "stderr",
          "text": [
            "/usr/local/lib/python3.7/dist-packages/distributed/config.py:20: YAMLLoadWarning: calling yaml.load() without Loader=... is deprecated, as the default Loader is unsafe. Please read https://msg.pyyaml.org/load for full details.\n",
            "  defaults = yaml.load(f)\n"
          ]
        },
        {
          "output_type": "display_data",
          "data": {
            "text/html": [
              "<html>\n",
              "<head><meta charset=\"utf-8\" /></head>\n",
              "<body>\n",
              "    <div>            <script src=\"https://cdnjs.cloudflare.com/ajax/libs/mathjax/2.7.5/MathJax.js?config=TeX-AMS-MML_SVG\"></script><script type=\"text/javascript\">if (window.MathJax) {MathJax.Hub.Config({SVG: {font: \"STIX-Web\"}});}</script>                <script type=\"text/javascript\">window.PlotlyConfig = {MathJaxConfig: 'local'};</script>\n",
              "        <script src=\"https://cdn.plot.ly/plotly-2.8.3.min.js\"></script>                <div id=\"cce23855-9a2e-4fa4-a236-6f0f870da33b\" class=\"plotly-graph-div\" style=\"height:525px; width:100%;\"></div>            <script type=\"text/javascript\">                                    window.PLOTLYENV=window.PLOTLYENV || {};                                    if (document.getElementById(\"cce23855-9a2e-4fa4-a236-6f0f870da33b\")) {                    Plotly.newPlot(                        \"cce23855-9a2e-4fa4-a236-6f0f870da33b\",                        [{\"hovertemplate\":\"<b>%{hovertext}</b>\",\"hovertext\":[\"C\\u00f4 gi\\u00e1o \\u0111ang \\u0103n kem.\",\"C\\u00f4 gi\\u00e1o \\u0111ang \\u0103n b\\u00e1nh m\\u00ec.\",\"Ch\\u1ecb g\\u00e1i \\u0111ang th\\u1eed m\\u00f3n th\\u1ecbt d\\u00ea.\"],\"legendgroup\":\"1\",\"marker\":{\"color\":\"#636efa\",\"symbol\":\"circle\"},\"mode\":\"markers\",\"name\":\"1\",\"scene\":\"scene\",\"showlegend\":true,\"x\":[-5.453616142272949,-6.9136505126953125,-4.696048259735107],\"y\":[-2.7872672080993652,-1.2729443311691284,-2.625852108001709],\"z\":[-3.952194929122925,-3.702491044998169,1.816635251045227],\"type\":\"scatter3d\"},{\"hovertemplate\":\"<b>%{hovertext}</b>\",\"hovertext\":[\"M\\u1ed9t anh trai \\u0111ang c\\u01b0\\u1ee1i ng\\u1ef1a.\",\"K\\u1ecb binh \\u0111ang \\u0111i tu\\u1ea7n.\"],\"legendgroup\":\"3\",\"marker\":{\"color\":\"#EF553B\",\"symbol\":\"circle\"},\"mode\":\"markers\",\"name\":\"3\",\"scene\":\"scene\",\"showlegend\":true,\"x\":[-0.6635907292366028,-1.1956453323364258],\"y\":[1.0923635959625244,-0.4226643145084381],\"z\":[6.405023574829102,7.280567169189453],\"type\":\"scatter3d\"},{\"hovertemplate\":\"<b>%{hovertext}</b>\",\"hovertext\":[\"M\\u1ed9t v\\u1ee5 tai n\\u1ea1n th\\u1ea3m kh\\u1ed1c v\\u1eeba x\\u1ea3y ra.\",\"\\u0110\\u00e3 c\\u00f3 \\u00edt nh\\u1ea5t hai ng\\u01b0\\u1eddi ch\\u1ebft trong v\\u1ee5 xe kh\\u00e1ch r\\u01a1i xu\\u1ed1ng v\\u1ef1c.\"],\"legendgroup\":\"0\",\"marker\":{\"color\":\"#00cc96\",\"symbol\":\"circle\"},\"mode\":\"markers\",\"name\":\"0\",\"scene\":\"scene\",\"showlegend\":true,\"x\":[1.9486550092697144,0.658742368221283],\"y\":[5.991240501403809,5.679992198944092],\"z\":[-1.5159685611724854,-2.7671260833740234],\"type\":\"scatter3d\"},{\"hovertemplate\":\"<b>%{hovertext}</b>\",\"hovertext\":[\"M\\u1ed9t con kh\\u1ec9 \\u0111ang di\\u1ec5n xi\\u1ebfc.\",\"M\\u1ed9t ng\\u01b0\\u1eddi \\u0111\\u00e0n \\u00f4ng trong b\\u1ed9 \\u0111\\u1ed3 tinh tinh \\u0111ang l\\u00e0m tr\\u00f2.\"],\"legendgroup\":\"2\",\"marker\":{\"color\":\"#ab63fa\",\"symbol\":\"circle\"},\"mode\":\"markers\",\"name\":\"2\",\"scene\":\"scene\",\"showlegend\":true,\"x\":[5.951980113983154,7.1959452629089355],\"y\":[-5.0480241775512695,-4.855566501617432],\"z\":[-1.123376727104187,-1.6060901880264282],\"type\":\"scatter3d\"},{\"hovertemplate\":\"<b>%{hovertext}</b>\",\"hovertext\":[\"L\\u0169 qu\\u00e9t \\u0111\\u1ed9t ng\\u1ed9t g\\u00e2y thi\\u1ec7t h\\u1ea1i cho \\u00edt nh\\u1ea5t 3 t\\u1ec9nh mi\\u1ec1n n\\u00fai\"],\"legendgroup\":\"4\",\"marker\":{\"color\":\"#FFA15A\",\"symbol\":\"circle\"},\"mode\":\"markers\",\"name\":\"4\",\"scene\":\"scene\",\"showlegend\":true,\"x\":[3.1672301292419434],\"y\":[4.248715400695801],\"z\":[-0.83498215675354],\"type\":\"scatter3d\"}],                        {\"template\":{\"data\":{\"bar\":[{\"error_x\":{\"color\":\"#2a3f5f\"},\"error_y\":{\"color\":\"#2a3f5f\"},\"marker\":{\"line\":{\"color\":\"#E5ECF6\",\"width\":0.5},\"pattern\":{\"fillmode\":\"overlay\",\"size\":10,\"solidity\":0.2}},\"type\":\"bar\"}],\"barpolar\":[{\"marker\":{\"line\":{\"color\":\"#E5ECF6\",\"width\":0.5},\"pattern\":{\"fillmode\":\"overlay\",\"size\":10,\"solidity\":0.2}},\"type\":\"barpolar\"}],\"carpet\":[{\"aaxis\":{\"endlinecolor\":\"#2a3f5f\",\"gridcolor\":\"white\",\"linecolor\":\"white\",\"minorgridcolor\":\"white\",\"startlinecolor\":\"#2a3f5f\"},\"baxis\":{\"endlinecolor\":\"#2a3f5f\",\"gridcolor\":\"white\",\"linecolor\":\"white\",\"minorgridcolor\":\"white\",\"startlinecolor\":\"#2a3f5f\"},\"type\":\"carpet\"}],\"choropleth\":[{\"colorbar\":{\"outlinewidth\":0,\"ticks\":\"\"},\"type\":\"choropleth\"}],\"contour\":[{\"colorbar\":{\"outlinewidth\":0,\"ticks\":\"\"},\"colorscale\":[[0.0,\"#0d0887\"],[0.1111111111111111,\"#46039f\"],[0.2222222222222222,\"#7201a8\"],[0.3333333333333333,\"#9c179e\"],[0.4444444444444444,\"#bd3786\"],[0.5555555555555556,\"#d8576b\"],[0.6666666666666666,\"#ed7953\"],[0.7777777777777778,\"#fb9f3a\"],[0.8888888888888888,\"#fdca26\"],[1.0,\"#f0f921\"]],\"type\":\"contour\"}],\"contourcarpet\":[{\"colorbar\":{\"outlinewidth\":0,\"ticks\":\"\"},\"type\":\"contourcarpet\"}],\"heatmap\":[{\"colorbar\":{\"outlinewidth\":0,\"ticks\":\"\"},\"colorscale\":[[0.0,\"#0d0887\"],[0.1111111111111111,\"#46039f\"],[0.2222222222222222,\"#7201a8\"],[0.3333333333333333,\"#9c179e\"],[0.4444444444444444,\"#bd3786\"],[0.5555555555555556,\"#d8576b\"],[0.6666666666666666,\"#ed7953\"],[0.7777777777777778,\"#fb9f3a\"],[0.8888888888888888,\"#fdca26\"],[1.0,\"#f0f921\"]],\"type\":\"heatmap\"}],\"heatmapgl\":[{\"colorbar\":{\"outlinewidth\":0,\"ticks\":\"\"},\"colorscale\":[[0.0,\"#0d0887\"],[0.1111111111111111,\"#46039f\"],[0.2222222222222222,\"#7201a8\"],[0.3333333333333333,\"#9c179e\"],[0.4444444444444444,\"#bd3786\"],[0.5555555555555556,\"#d8576b\"],[0.6666666666666666,\"#ed7953\"],[0.7777777777777778,\"#fb9f3a\"],[0.8888888888888888,\"#fdca26\"],[1.0,\"#f0f921\"]],\"type\":\"heatmapgl\"}],\"histogram\":[{\"marker\":{\"pattern\":{\"fillmode\":\"overlay\",\"size\":10,\"solidity\":0.2}},\"type\":\"histogram\"}],\"histogram2d\":[{\"colorbar\":{\"outlinewidth\":0,\"ticks\":\"\"},\"colorscale\":[[0.0,\"#0d0887\"],[0.1111111111111111,\"#46039f\"],[0.2222222222222222,\"#7201a8\"],[0.3333333333333333,\"#9c179e\"],[0.4444444444444444,\"#bd3786\"],[0.5555555555555556,\"#d8576b\"],[0.6666666666666666,\"#ed7953\"],[0.7777777777777778,\"#fb9f3a\"],[0.8888888888888888,\"#fdca26\"],[1.0,\"#f0f921\"]],\"type\":\"histogram2d\"}],\"histogram2dcontour\":[{\"colorbar\":{\"outlinewidth\":0,\"ticks\":\"\"},\"colorscale\":[[0.0,\"#0d0887\"],[0.1111111111111111,\"#46039f\"],[0.2222222222222222,\"#7201a8\"],[0.3333333333333333,\"#9c179e\"],[0.4444444444444444,\"#bd3786\"],[0.5555555555555556,\"#d8576b\"],[0.6666666666666666,\"#ed7953\"],[0.7777777777777778,\"#fb9f3a\"],[0.8888888888888888,\"#fdca26\"],[1.0,\"#f0f921\"]],\"type\":\"histogram2dcontour\"}],\"mesh3d\":[{\"colorbar\":{\"outlinewidth\":0,\"ticks\":\"\"},\"type\":\"mesh3d\"}],\"parcoords\":[{\"line\":{\"colorbar\":{\"outlinewidth\":0,\"ticks\":\"\"}},\"type\":\"parcoords\"}],\"pie\":[{\"automargin\":true,\"type\":\"pie\"}],\"scatter\":[{\"marker\":{\"colorbar\":{\"outlinewidth\":0,\"ticks\":\"\"}},\"type\":\"scatter\"}],\"scatter3d\":[{\"line\":{\"colorbar\":{\"outlinewidth\":0,\"ticks\":\"\"}},\"marker\":{\"colorbar\":{\"outlinewidth\":0,\"ticks\":\"\"}},\"type\":\"scatter3d\"}],\"scattercarpet\":[{\"marker\":{\"colorbar\":{\"outlinewidth\":0,\"ticks\":\"\"}},\"type\":\"scattercarpet\"}],\"scattergeo\":[{\"marker\":{\"colorbar\":{\"outlinewidth\":0,\"ticks\":\"\"}},\"type\":\"scattergeo\"}],\"scattergl\":[{\"marker\":{\"colorbar\":{\"outlinewidth\":0,\"ticks\":\"\"}},\"type\":\"scattergl\"}],\"scattermapbox\":[{\"marker\":{\"colorbar\":{\"outlinewidth\":0,\"ticks\":\"\"}},\"type\":\"scattermapbox\"}],\"scatterpolar\":[{\"marker\":{\"colorbar\":{\"outlinewidth\":0,\"ticks\":\"\"}},\"type\":\"scatterpolar\"}],\"scatterpolargl\":[{\"marker\":{\"colorbar\":{\"outlinewidth\":0,\"ticks\":\"\"}},\"type\":\"scatterpolargl\"}],\"scatterternary\":[{\"marker\":{\"colorbar\":{\"outlinewidth\":0,\"ticks\":\"\"}},\"type\":\"scatterternary\"}],\"surface\":[{\"colorbar\":{\"outlinewidth\":0,\"ticks\":\"\"},\"colorscale\":[[0.0,\"#0d0887\"],[0.1111111111111111,\"#46039f\"],[0.2222222222222222,\"#7201a8\"],[0.3333333333333333,\"#9c179e\"],[0.4444444444444444,\"#bd3786\"],[0.5555555555555556,\"#d8576b\"],[0.6666666666666666,\"#ed7953\"],[0.7777777777777778,\"#fb9f3a\"],[0.8888888888888888,\"#fdca26\"],[1.0,\"#f0f921\"]],\"type\":\"surface\"}],\"table\":[{\"cells\":{\"fill\":{\"color\":\"#EBF0F8\"},\"line\":{\"color\":\"white\"}},\"header\":{\"fill\":{\"color\":\"#C8D4E3\"},\"line\":{\"color\":\"white\"}},\"type\":\"table\"}]},\"layout\":{\"annotationdefaults\":{\"arrowcolor\":\"#2a3f5f\",\"arrowhead\":0,\"arrowwidth\":1},\"autotypenumbers\":\"strict\",\"coloraxis\":{\"colorbar\":{\"outlinewidth\":0,\"ticks\":\"\"}},\"colorscale\":{\"diverging\":[[0,\"#8e0152\"],[0.1,\"#c51b7d\"],[0.2,\"#de77ae\"],[0.3,\"#f1b6da\"],[0.4,\"#fde0ef\"],[0.5,\"#f7f7f7\"],[0.6,\"#e6f5d0\"],[0.7,\"#b8e186\"],[0.8,\"#7fbc41\"],[0.9,\"#4d9221\"],[1,\"#276419\"]],\"sequential\":[[0.0,\"#0d0887\"],[0.1111111111111111,\"#46039f\"],[0.2222222222222222,\"#7201a8\"],[0.3333333333333333,\"#9c179e\"],[0.4444444444444444,\"#bd3786\"],[0.5555555555555556,\"#d8576b\"],[0.6666666666666666,\"#ed7953\"],[0.7777777777777778,\"#fb9f3a\"],[0.8888888888888888,\"#fdca26\"],[1.0,\"#f0f921\"]],\"sequentialminus\":[[0.0,\"#0d0887\"],[0.1111111111111111,\"#46039f\"],[0.2222222222222222,\"#7201a8\"],[0.3333333333333333,\"#9c179e\"],[0.4444444444444444,\"#bd3786\"],[0.5555555555555556,\"#d8576b\"],[0.6666666666666666,\"#ed7953\"],[0.7777777777777778,\"#fb9f3a\"],[0.8888888888888888,\"#fdca26\"],[1.0,\"#f0f921\"]]},\"colorway\":[\"#636efa\",\"#EF553B\",\"#00cc96\",\"#ab63fa\",\"#FFA15A\",\"#19d3f3\",\"#FF6692\",\"#B6E880\",\"#FF97FF\",\"#FECB52\"],\"font\":{\"color\":\"#2a3f5f\"},\"geo\":{\"bgcolor\":\"white\",\"lakecolor\":\"white\",\"landcolor\":\"#E5ECF6\",\"showlakes\":true,\"showland\":true,\"subunitcolor\":\"white\"},\"hoverlabel\":{\"align\":\"left\"},\"hovermode\":\"closest\",\"mapbox\":{\"style\":\"light\"},\"paper_bgcolor\":\"white\",\"plot_bgcolor\":\"#E5ECF6\",\"polar\":{\"angularaxis\":{\"gridcolor\":\"white\",\"linecolor\":\"white\",\"ticks\":\"\"},\"bgcolor\":\"#E5ECF6\",\"radialaxis\":{\"gridcolor\":\"white\",\"linecolor\":\"white\",\"ticks\":\"\"}},\"scene\":{\"xaxis\":{\"backgroundcolor\":\"#E5ECF6\",\"gridcolor\":\"white\",\"gridwidth\":2,\"linecolor\":\"white\",\"showbackground\":true,\"ticks\":\"\",\"zerolinecolor\":\"white\"},\"yaxis\":{\"backgroundcolor\":\"#E5ECF6\",\"gridcolor\":\"white\",\"gridwidth\":2,\"linecolor\":\"white\",\"showbackground\":true,\"ticks\":\"\",\"zerolinecolor\":\"white\"},\"zaxis\":{\"backgroundcolor\":\"#E5ECF6\",\"gridcolor\":\"white\",\"gridwidth\":2,\"linecolor\":\"white\",\"showbackground\":true,\"ticks\":\"\",\"zerolinecolor\":\"white\"}},\"shapedefaults\":{\"line\":{\"color\":\"#2a3f5f\"}},\"ternary\":{\"aaxis\":{\"gridcolor\":\"white\",\"linecolor\":\"white\",\"ticks\":\"\"},\"baxis\":{\"gridcolor\":\"white\",\"linecolor\":\"white\",\"ticks\":\"\"},\"bgcolor\":\"#E5ECF6\",\"caxis\":{\"gridcolor\":\"white\",\"linecolor\":\"white\",\"ticks\":\"\"}},\"title\":{\"x\":0.05},\"xaxis\":{\"automargin\":true,\"gridcolor\":\"white\",\"linecolor\":\"white\",\"ticks\":\"\",\"title\":{\"standoff\":15},\"zerolinecolor\":\"white\",\"zerolinewidth\":2},\"yaxis\":{\"automargin\":true,\"gridcolor\":\"white\",\"linecolor\":\"white\",\"ticks\":\"\",\"title\":{\"standoff\":15},\"zerolinecolor\":\"white\",\"zerolinewidth\":2}}},\"scene\":{\"domain\":{\"x\":[0.0,1.0],\"y\":[0.0,1.0]},\"xaxis\":{\"title\":{\"text\":\"x\"},\"range\":[-7.9136505126953125,8.195945262908936]},\"yaxis\":{\"title\":{\"text\":\"y\"},\"range\":[-6.0480241775512695,6.991240501403809]},\"zaxis\":{\"title\":{\"text\":\"z\"},\"range\":[-4.952194929122925,8.280567169189453]}},\"legend\":{\"title\":{\"text\":\"cluster\"},\"tracegroupgap\":0},\"margin\":{\"t\":60}},                        {\"responsive\": true}                    ).then(function(){\n",
              "                            \n",
              "var gd = document.getElementById('cce23855-9a2e-4fa4-a236-6f0f870da33b');\n",
              "var x = new MutationObserver(function (mutations, observer) {{\n",
              "        var display = window.getComputedStyle(gd).display;\n",
              "        if (!display || display === 'none') {{\n",
              "            console.log([gd, 'removed!']);\n",
              "            Plotly.purge(gd);\n",
              "            observer.disconnect();\n",
              "        }}\n",
              "}});\n",
              "\n",
              "// Listen for the removal of the full notebook cells\n",
              "var notebookContainer = gd.closest('#notebook-container');\n",
              "if (notebookContainer) {{\n",
              "    x.observe(notebookContainer, {childList: true});\n",
              "}}\n",
              "\n",
              "// Listen for the clearing of the current output cell\n",
              "var outputEl = gd.closest('.output');\n",
              "if (outputEl) {{\n",
              "    x.observe(outputEl, {childList: true});\n",
              "}}\n",
              "\n",
              "                        })                };                            </script>        </div>\n",
              "</body>\n",
              "</html>"
            ]
          },
          "metadata": {}
        }
      ]
    },
    {
      "cell_type": "markdown",
      "metadata": {
        "id": "iPxvd8SG0T78"
      },
      "source": [
        "# Webserver files\n",
        "Webserver files in first sections"
      ]
    },
    {
      "cell_type": "code",
      "metadata": {
        "id": "sZbKai1A0rzq",
        "cellView": "form"
      },
      "source": [
        "#@title model.py\n",
        "#@markdown Create model.py\n",
        "model_py=\"\"\"\n",
        "from typing import Tuple, List\n",
        "\n",
        "from sklearn.decomposition import PCA\n",
        "from sklearn.cluster import KMeans\n",
        "from sklearn.metrics.pairwise import pairwise_distances\n",
        "\n",
        "import numpy as np\n",
        "import pandas as pd\n",
        "\n",
        "import plotly.express as px\n",
        "import re\n",
        "\n",
        "from sentence_transformers import SentenceTransformer\n",
        "\n",
        "\n",
        "class Model(object):\n",
        "  def __init__(self, model_path):\n",
        "    super(Model, self).__init__()\n",
        "    \n",
        "    self.sbert = SentenceTransformer(model_path)\n",
        "\n",
        "  def measure_distance(self, sents: Tuple[str, str]):\n",
        "    # compute embeddings\n",
        "    corpus_embeddings = self.sbert.encode(sents)\n",
        "\n",
        "    # compute distance\n",
        "    distances = (\n",
        "        pairwise_distances(\n",
        "        corpus_embeddings[0].reshape(1, -1),\n",
        "        corpus_embeddings[1].reshape(1, -1),\n",
        "        metric)[0][0] for metric in [\"cosine\", \"manhattan\", \"euclidean\"]\n",
        "        )\n",
        "    return distances\n",
        "\n",
        "  def fit_kmeans(self, corpus: List[str], n_clusters: int):\n",
        "    # compute embeddings\n",
        "    corpus_embeddings = self.sbert.encode(corpus)\n",
        "\n",
        "    # cluster\n",
        "    clustering_model = KMeans(n_clusters)\n",
        "    clustering_model.fit(corpus_embeddings)\n",
        "    \n",
        "    # perform PCA\n",
        "    n_components = int(len(corpus) > 2) + 2\n",
        "    pca = PCA(n_components)\n",
        "    X = np.array(corpus_embeddings)\n",
        "    X_reduced = pca.fit_transform(X)\n",
        "\n",
        "    # plot corpus in 3d scatter plot\n",
        "    df = pd.DataFrame({\n",
        "      'sent': corpus,\n",
        "      'cluster': clustering_model.labels_.astype(str),\n",
        "      'x': X_reduced[:, 0],\n",
        "      'y': X_reduced[:, 1],\n",
        "      'z': X_reduced[:, 2] if X_reduced.shape[1] > 2 else np.zeros(X_reduced.shape[0])\n",
        "    })\n",
        "\n",
        "    fig = px.scatter_3d(df, x='x', y='y', z='z',\n",
        "              color='cluster', hover_name='sent',\n",
        "              range_x = [df.x.min()-1, df.x.max()+1],\n",
        "              range_y = [df.y.min()-1, df.y.max()+1],\n",
        "              range_z = [df.z.min()-1, df.z.max()+1])\n",
        "\n",
        "    fig.update_traces(hovertemplate= '<b>%{hovertext}</b>')\n",
        "\n",
        "    # convert graph to html and replace its id\n",
        "    graph = fig.to_html(full_html=False, include_plotlyjs=False)\n",
        "\n",
        "    re_graph = r\"Plotly\\.newPlot\\(\\s*'(.*?)',.*?\\)\"\n",
        "    groups_html = re.search(re_graph, graph, re.DOTALL)\n",
        "    result = groups_html[0].replace(groups_html[1], 'plotly')\n",
        "    \n",
        "    return result\n",
        "\n",
        "model = Model('/content/phobert_base_mean_tokens_NLI_STS')\n",
        "\n",
        "def get_model():\n",
        "  return model\n",
        "\"\"\"\n",
        "\n",
        "with open('model.py', 'w') as f:\n",
        "  f.write(model_py)"
      ],
      "execution_count": null,
      "outputs": []
    },
    {
      "cell_type": "code",
      "metadata": {
        "id": "vABmJasN0uHO",
        "cellView": "form"
      },
      "source": [
        "#@title server.py\n",
        "#@markdown Create server.py\n",
        "\n",
        "server_py = \"\"\"\n",
        "import os\n",
        "import sys\n",
        "import traceback\n",
        "\n",
        "from typing import Tuple, List\n",
        "from fastapi import FastAPI, Depends, HTTPException, Request\n",
        "from fastapi.logger import logger\n",
        "from fastapi.templating import Jinja2Templates\n",
        "from fastapi.middleware.cors import CORSMiddleware\n",
        "from pydantic import BaseSettings, BaseModel\n",
        "\n",
        "from model import Model, get_model\n",
        "\n",
        "class Settings(BaseSettings):\n",
        "    BASE_URL = \"http://localhost:8000\"\n",
        "    USE_NGROK = os.environ.get(\"USE_NGROK\", \"False\") == \"True\"\n",
        "\n",
        "\n",
        "settings = Settings()\n",
        "\n",
        "\n",
        "# Initialize the FastAPI app for a simple web server\n",
        "app = FastAPI()\n",
        "\n",
        "app.add_middleware(\n",
        "    CORSMiddleware,\n",
        "    allow_origins=[\"*\"],\n",
        "    allow_credentials=True,\n",
        "    allow_methods=[\"*\"],\n",
        "    allow_headers=[\"*\"],\n",
        ")\n",
        "\n",
        "templates = Jinja2Templates(directory=\"\")\n",
        "\n",
        "if settings.USE_NGROK:\n",
        "  \n",
        "  # pyngrok should only ever be installed or initialized in a dev environment when this flag is set\n",
        "  from pyngrok import ngrok\n",
        "\n",
        "  # Get the dev server port (defaults to 8000 for Uvicorn, can be overridden with `--port`\n",
        "  # when starting the server\n",
        "  port = sys.argv[sys.argv.index(\"--port\") + 1] if \"--port\" in sys.argv else 8000\n",
        "\n",
        "  # Open a ngrok tunnel to the dev server\n",
        "  public_url = ngrok.connect(port)\n",
        "\n",
        "  logger.warn(\"ngrok tunnel \\\"{}\\\" -> \\\"http://127.0.0.1:{}/\\\"\".format(public_url, port))\n",
        "\n",
        "  # Update any base URLs or webhooks to use the public ngrok URL\n",
        "  settings.BASE_URL = public_url\n",
        "  \n",
        "class DistanceRequest(BaseModel):\n",
        "  sents: Tuple[str, str]\n",
        "\n",
        "class DistanceResponse(BaseModel):\n",
        "  cosine: float\n",
        "  manhattan: float\n",
        "  euclidean: float\n",
        "\n",
        "class KmeansRequest(BaseModel):\n",
        "  corpus: List[str]\n",
        "  n_clusters: int\n",
        "\n",
        "class KmeansResponse(BaseModel):\n",
        "  plot_html: str\n",
        "  \n",
        "\n",
        "@app.get(\"/\")\n",
        "def root(request: Request):\n",
        "    return templates.TemplateResponse(\"index.html\", {\"request\": request, \"serveradd\": request.url_for('root')})\n",
        "\n",
        "@app.post(\"/measure_dis\", response_model=DistanceResponse)\n",
        "def measure_sim(request: DistanceRequest, model:Model = Depends(get_model)):\n",
        "  try:\n",
        "    cosine, manhattan, euclidean = model.measure_distance(request.sents)\n",
        "  except Exception as e:\n",
        "    raise HTTPException(\n",
        "          status_code=422,\n",
        "          detail=traceback.format_exc(),\n",
        "      )\n",
        "\n",
        "  return DistanceResponse(\n",
        "      cosine = cosine,\n",
        "      manhattan = manhattan,\n",
        "      euclidean = euclidean\n",
        "  )\n",
        "\n",
        "@app.post(\"/cluster\", response_model=KmeansResponse)\n",
        "def cluster(request: KmeansRequest, model:Model = Depends(get_model)):\n",
        "  print(request.n_clusters, len(request.corpus))\n",
        "  if (request.n_clusters < 1):\n",
        "    raise HTTPException(status_code=400,\n",
        "                  detail=\"Number of clusters must be greater than 0.\")\n",
        "  elif (len(request.corpus) < 2):\n",
        "    raise HTTPException(status_code=400,\n",
        "                  detail=\"Corpus must have at least 2 sentences.\")\n",
        "  elif (len(request.corpus) < request.n_clusters):\n",
        "    raise HTTPException(status_code=400,\n",
        "                  detail=\"Number of sentences must be greater than or equal to number of clusters.\")\n",
        "  try:\n",
        "    result = KmeansResponse(\n",
        "      plot_html = model.fit_kmeans(request.corpus, request.n_clusters)\n",
        "    )\n",
        "  except Exception as e:\n",
        "    raise HTTPException(\n",
        "            status_code=422,\n",
        "            detail=traceback.format_exc(),\n",
        "          )\n",
        "  return result\n",
        "\"\"\"\n",
        "\n",
        "with open('server.py', 'w') as f:\n",
        "  f.write(server_py)"
      ],
      "execution_count": null,
      "outputs": []
    },
    {
      "cell_type": "code",
      "metadata": {
        "id": "PfnMthKh1Jm4"
      },
      "source": [
        "#@title index.html\n",
        "#@markdown Create index.html\n",
        "\n",
        "index_html = \"\"\"\n",
        "<!DOCTYPE html>\n",
        "<html lang=\"en\">\n",
        "\n",
        "<head>\n",
        "    <meta charset=\"UTF-8\">\n",
        "    <meta name=\"viewport\" content=\"width=device-width, initial-scale=1.0\">\n",
        "    <title>KLTN</title>\n",
        "\n",
        "    <link rel=\"stylesheet\" href=\"https://stackpath.bootstrapcdn.com/bootstrap/4.5.0/css/bootstrap.min.css\"\n",
        "        integrity=\"sha384-9aIt2nRpC12Uk9gS9baDl411NQApFmC26EwAOH8WgZl5MYYxFfc+NcPb1dKGj7Sk\" crossorigin=\"anonymous\">\n",
        "\n",
        "\n",
        "</head>\n",
        "\n",
        "<body>\n",
        "\n",
        "    <nav class=\"navbar navbar-expand-lg navbar-dark bg-dark\">\n",
        "        <a class=\"navbar-brand\" href=\"#\">\n",
        "            <img src=\"https://tuoitre.uit.edu.vn/wp-content/uploads/2015/07/logo-uit-300x248.png\" width=\"40\" height=\"30\"\n",
        "                class=\"d-inline-block align-top\" alt=\"\">\n",
        "        </a>\n",
        "        <button class=\"navbar-toggler\" type=\"button\" data-toggle=\"collapse\" data-target=\"#navbarNav\"\n",
        "            aria-controls=\"navbarNav\" aria-expanded=\"false\" aria-label=\"Toggle navigation\">\n",
        "            <span class=\"navbar-toggler-icon\"></span>\n",
        "        </button>\n",
        "        <div class=\"collapse navbar-collapse\">\n",
        "            <ul class=\"navbar-nav\">\n",
        "                <li class=\"nav-item active\">\n",
        "                    <a class=\"nav-link\" href=\"#\">Playground<span class=\"sr-only\">(current)</span></a>\n",
        "                </li>\n",
        "            </ul>\n",
        "        </div>\n",
        "    </nav>\n",
        "\n",
        "    <div class=\"container-fluid mt-3\">\n",
        "        <div class=\"row\">\n",
        "            <div class=\"col-lg\">\n",
        "                <div class=\"card border-0 rounded\">\n",
        "                    <div class=\"card-header bg-transparent\">\n",
        "                        <h1>Sentence Embedding for Vietnamese language using Siamese BERT-Network</h1>\n",
        "                    </div>\n",
        "                    <div class=\"card-body\">\n",
        "                        <form class=\"need-validation\">\n",
        "                            <div class=\"form-row\">\n",
        "                                <div class=\"col-sm\">\n",
        "                                    <select class=\"custom-select\" id=\"task\" required>\n",
        "                                        <option value=\"\">Select a task</option>\n",
        "                                        <option value=\"distance\">Similarity Measure</option>\n",
        "                                        <option value=\"clustering\">Clustering</option>\n",
        "                                    </select>\n",
        "                                </div>\n",
        "                                <div class=\"col-sm\">\n",
        "                                    <div class=\"input-group\" id=\"numClustersGroup\" style=\"display: none;\">\n",
        "                                        <input type=\"number\" min=\"1\" class=\"form-control\" id=\"numOfClusters\" placeholder=\"4\" aria-describedby=\"inputGroupPrepend\" required>\n",
        "                                        <div class=\"input-group-prepend\">\n",
        "                                            <span class=\"input-group-text\" id=\"inputGroupPrepend\">clusters</span>\n",
        "                                        </div>\n",
        "                                        <div class=\"invalid-feedback\" id=\"numOfClusters_feedback\"></div>\n",
        "                                    </div>\n",
        "                                </div>\n",
        "                            </div>\n",
        "                            <div class=\"form-group mt-2\">\n",
        "                                <label>Enter each sentence on a line.</label>\n",
        "                                <textarea class=\"form-control\" id=\"inputText\" rows=\"9\" placeholder=\"Enter 2 sentences to measure similarity or more for clustering.\"required></textarea>\n",
        "                                <div class=\"invalid-feedback\" id=\"inputText_feedback\"></div>\n",
        "                            </div>\n",
        "                        </form>\n",
        "                        <div class=\"row\">\n",
        "                            <div class=\"col\">\n",
        "                                <button class=\"btn btn-primary col-sm-4 btn-lg float-right btn-block\"\n",
        "                                    id=\"doInference\">Process</button>\n",
        "                            </div>\n",
        "                        </div>\n",
        "                    </div>\n",
        "                </div>\n",
        "            </div>\n",
        "            <div class=\"col-lg\">\n",
        "                <div class=\"card border-0 rounded\">\n",
        "                    <div class=\"card-header bg-transparent\">\n",
        "                        <h1>Result</h1>\n",
        "                    </div>\n",
        "                    <div class=\"card-body text-center\" id=inferenceResult>\n",
        "                        \n",
        "                    </div>\n",
        "                    <div class=\"card-footer text-center\" id=\"footer\"></div>\n",
        "                </div>\n",
        "            </div>\n",
        "        </div>\n",
        "    </div>\n",
        "\n",
        "    <script src=\"https://code.jquery.com/jquery-3.5.1.slim.min.js\"\n",
        "        integrity=\"sha384-DfXdz2htPH0lsSSs5nCTpuj/zy4C+OGpamoFVy38MVBnE+IbbVYUew+OrCXaRkfj\"\n",
        "        crossorigin=\"anonymous\"></script>\n",
        "    <script src=\"https://cdn.jsdelivr.net/npm/popper.js@1.16.0/dist/umd/popper.min.js\"\n",
        "        integrity=\"sha384-Q6E9RHvbIyZFJoft+2mJbHaEWldlvI9IOYy5n3zV9zzTtmI3UksdQRVvoxMfooAo\"\n",
        "        crossorigin=\"anonymous\"></script>\n",
        "    <script src=\"https://stackpath.bootstrapcdn.com/bootstrap/4.5.0/js/bootstrap.min.js\"\n",
        "        integrity=\"sha384-OgVRvuATP1z7JjHLkuOU7Xw704+h835Lr+6QL9UvYjZE3Ipu6Tp75j7Bh/kR0JKI\"\n",
        "        crossorigin=\"anonymous\"></script>\n",
        "    <script src=\"https://bernii.github.io/gauge.js/dist/gauge.min.js\"></script>\n",
        "    <script src=\"https://cdn.plot.ly/plotly-latest.min.js\"></script>\n",
        "    <script src=\"https://unpkg.com/axios/dist/axios.min.js\"></script>\n",
        "    <script>\n",
        "        (() => {\n",
        "            window.addEventListener('load', () => {\n",
        "                if ($(\"#task\").val() == \"clustering\") $(\"#numClustersGroup\").show()\n",
        "                // Fetch all the forms we want to apply custom Bootstrap validation styles to\n",
        "                var forms = document.getElementsByClassName('need-validation');\n",
        "                // Loop over them and prevent submission\n",
        "                var validation = Array.prototype.filter.call(forms, (form) => {\n",
        "                form.addEventListener('submit', (event) => {\n",
        "                    event.preventDefault();\n",
        "                    event.stopPropagation();\n",
        "                }, false);\n",
        "                });\n",
        "            }, false);\n",
        "        })();\n",
        "\n",
        "        $(\"#task\").change(() => {\n",
        "            if ($(\"#task\").val() == \"clustering\") {\n",
        "                $(\"#numClustersGroup\").show()\n",
        "            } else {\n",
        "                $(\"#numClustersGroup\").hide()\n",
        "            }\n",
        "        });\n",
        "\n",
        "        // Gauge\n",
        "        var opts = {\n",
        "            angle: 0.0, // The span of the gauge arc\n",
        "            lineWidth: 0.44, // The line thickness\n",
        "            radiusScale: 1, // Relative radius\n",
        "            pointer: {\n",
        "                length: 0.5, // // Relative to gauge radius\n",
        "                strokeWidth: 0.035, // The thickness\n",
        "                color: '#000000' // Fill color\n",
        "            },\n",
        "            limitMax: false,     // If false, max value increases automatically if value > maxValue\n",
        "            limitMin: false,     // If true, the min value of the gauge will be fixed\n",
        "            generateGradient: true,\n",
        "            highDpiSupport: true,     // High resolution support\n",
        "            percentColors: [[0.0, \"#FF0000\"], [0.50, \"#0080FF\"], [1.0, \"#4C9900\"]], // !!!!\n",
        "            strokeColor: '#E0E0E0',\n",
        "        };\n",
        "\n",
        "        // do inference\n",
        "        var inferenceServer = {{ serveradd }};\n",
        "\n",
        "        var inferenceBtn = $(\"#doInference\");\n",
        "        inferenceBtn.on(\"click\", () => {\n",
        "            var task = $(\"#task\").val();\n",
        "            var text = $(\"#inputText\").val();\n",
        "            var num_cluster = parseInt($(\"#numOfClusters\").val());\n",
        "            \n",
        "            if (![\"distance\", \"clustering\"].includes(task) || num_cluster < 1 || !text) return;\n",
        "\n",
        "            var ArrOfSentences = text.split(/[\\r\\n]+/).filter(e => e);\n",
        "            \n",
        "            if (task == \"distance\") {\n",
        "                if (ArrOfSentences.length != 2) {\n",
        "                    $(\"#inputText_feedback\").html(\"Please enter 2 sentences to measure distance.\")\n",
        "                    $(\"#inputText\").addClass(\"is-invalid\");\n",
        "                    return;\n",
        "                }\n",
        "                $(\"#inputText\").removeClass(\"is-invalid\");\n",
        "\n",
        "                // change status of process button to loading\n",
        "                inferenceBtn.html(\n",
        "                    '<span class=\"spinner-border spinner-border-sm\" role=\"status\" aria-hidden=\"true\"></span>'\n",
        "                )\n",
        "                inferenceBtn.addClass(\"disabled\");\n",
        "\n",
        "                axios.post(inferenceServer + \"/measure_dis\", {\n",
        "                    sents: ArrOfSentences\n",
        "                })\n",
        "                .then((response) => {\n",
        "                    if (!document.getElementById(\"gauge_sim\")) {\n",
        "                        $(\"#inferenceResult\").html('<canvas id=\"gauge_sim\" height=\"300\" width=\"500\"></canvas>');\n",
        "                    }\n",
        "                    cosine_sim = 1 - response.data.cosine;\n",
        "                    console.log(response.data);\n",
        "                    $(\"#footer\").html(`<h3>Cosine similarity: ${cosine_sim}</h3>`);\n",
        "\n",
        "                    var target = document.getElementById('gauge_sim'); // your canvas element\n",
        "                    var gauge = new Gauge(target).setOptions(opts); // create sexy gauge!\n",
        "                    gauge.maxValue = 10; // set max gauge value\n",
        "                    gauge.setMinValue(-10);  // Prefer setter over gauge.minValue = 0\n",
        "                    gauge.animationSpeed = 15; // set animation speed (32 is default value)\n",
        "                    gauge.set(cosine_sim * 10); // set actual value\n",
        "                })\n",
        "                .catch((error) => console.log(error))\n",
        "                .finally(() => {\n",
        "                    // reset status of process btn\n",
        "                    inferenceBtn.removeClass(\"disabled\");\n",
        "                    inferenceBtn.html('Process');\n",
        "                })\n",
        "            } else {\n",
        "                if (ArrOfSentences.length < 2) {\n",
        "                    $(\"#inputText_feedback\").html(\"Please enter more than 2 sentences to perform clustering.\")\n",
        "                    $(\"#inputText\").addClass(\"is-invalid\");\n",
        "                    return;\n",
        "                }\n",
        "                if (ArrOfSentences.length < num_cluster) {\n",
        "                    $(\"#numOfClusters_feedback\").html(\"Number of clusters must be less than or equal to number of sentences.\")\n",
        "                    $(\"#numOfClusters\").addClass(\"is-invalid\");\n",
        "                    return;\n",
        "                }\n",
        "\n",
        "                $(\"#numOfClusters\").removeClass(\"is-invalid\");\n",
        "                $(\"#inputText\").removeClass(\"is-invalid\");\n",
        "\n",
        "                window.PLOTLYENV=window.PLOTLYENV || {};\n",
        "\n",
        "                if (!document.getElementById(\"plotly\")) {\n",
        "                    $(\"#inferenceResult\").html('<div id=\"plotly\" class=\"plotly-graph-div\" style=\"height:100%; width:100%;\"></div>');\n",
        "                }\n",
        "                \n",
        "                $(\"#footer\").html('');\n",
        "\n",
        "                // change status of process button to loading\n",
        "                inferenceBtn.html(\n",
        "                    '<span class=\"spinner-border spinner-border-sm\" role=\"status\" aria-hidden=\"true\"></span>'\n",
        "                )\n",
        "                inferenceBtn.addClass(\"disabled\");\n",
        "\n",
        "                axios.post(inferenceServer + \"/cluster\", {\n",
        "                    corpus: ArrOfSentences,\n",
        "                    n_clusters: num_cluster\n",
        "                })\n",
        "                .then((response) => {\n",
        "                    eval(response.data.plot_html);\n",
        "                    console.log(response.data.plot_html);\n",
        "                })\n",
        "                .catch((error) => console.log(error))\n",
        "                .finally(() => {\n",
        "                    // reset status of process btn\n",
        "                    inferenceBtn.removeClass(\"disabled\");\n",
        "                    inferenceBtn.html('Process');\n",
        "                })\n",
        "\n",
        "                \n",
        "            }\n",
        "        })\n",
        "    </script>\n",
        "</body>\n",
        "\n",
        "</html>\n",
        "\"\"\"\n",
        "\n",
        "with open(\"index.html\", 'w') as f:\n",
        "  f.write(index_html)"
      ],
      "execution_count": null,
      "outputs": []
    }
  ]
}